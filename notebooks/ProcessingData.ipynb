{
 "cells": [
  {
   "cell_type": "code",
   "execution_count": 1,
   "id": "3f2984eb-facb-4d2f-9c80-641b8c53e45b",
   "metadata": {},
   "outputs": [],
   "source": [
    "import pandas as pd\n"
   ]
  },
  {
   "cell_type": "code",
   "execution_count": 4,
   "id": "0f432fbc-d0bb-469e-b8f8-d4edcbbeec8b",
   "metadata": {},
   "outputs": [
    {
     "data": {
      "text/html": [
       "<div>\n",
       "<style scoped>\n",
       "    .dataframe tbody tr th:only-of-type {\n",
       "        vertical-align: middle;\n",
       "    }\n",
       "\n",
       "    .dataframe tbody tr th {\n",
       "        vertical-align: top;\n",
       "    }\n",
       "\n",
       "    .dataframe thead th {\n",
       "        text-align: right;\n",
       "    }\n",
       "</style>\n",
       "<table border=\"1\" class=\"dataframe\">\n",
       "  <thead>\n",
       "    <tr style=\"text-align: right;\">\n",
       "      <th></th>\n",
       "      <th>movieId</th>\n",
       "      <th>imdbId</th>\n",
       "      <th>tmdbId</th>\n",
       "    </tr>\n",
       "  </thead>\n",
       "  <tbody>\n",
       "    <tr>\n",
       "      <th>0</th>\n",
       "      <td>1</td>\n",
       "      <td>114709</td>\n",
       "      <td>862.0</td>\n",
       "    </tr>\n",
       "    <tr>\n",
       "      <th>1</th>\n",
       "      <td>2</td>\n",
       "      <td>113497</td>\n",
       "      <td>8844.0</td>\n",
       "    </tr>\n",
       "    <tr>\n",
       "      <th>2</th>\n",
       "      <td>3</td>\n",
       "      <td>113228</td>\n",
       "      <td>15602.0</td>\n",
       "    </tr>\n",
       "    <tr>\n",
       "      <th>3</th>\n",
       "      <td>4</td>\n",
       "      <td>114885</td>\n",
       "      <td>31357.0</td>\n",
       "    </tr>\n",
       "    <tr>\n",
       "      <th>4</th>\n",
       "      <td>5</td>\n",
       "      <td>113041</td>\n",
       "      <td>11862.0</td>\n",
       "    </tr>\n",
       "  </tbody>\n",
       "</table>\n",
       "</div>"
      ],
      "text/plain": [
       "   movieId  imdbId   tmdbId\n",
       "0        1  114709    862.0\n",
       "1        2  113497   8844.0\n",
       "2        3  113228  15602.0\n",
       "3        4  114885  31357.0\n",
       "4        5  113041  11862.0"
      ]
     },
     "execution_count": 4,
     "metadata": {},
     "output_type": "execute_result"
    }
   ],
   "source": [
    "\n",
    "links = pd.read_csv(\"../data/raw/ml-25m/links.csv\")\n",
    "links.head()"
   ]
  },
  {
   "cell_type": "code",
   "execution_count": 5,
   "id": "9052e905-8224-413d-b1eb-bde2df706b64",
   "metadata": {},
   "outputs": [
    {
     "name": "stdout",
     "output_type": "stream",
     "text": [
      "✅ Cleaned links saved at ../data/processed/links_cleaned.csv\n"
     ]
    }
   ],
   "source": [
    "links = links.dropna(subset=[\"tmdbId\"])\n",
    "\n",
    "links[\"tmdbId\"] = links[\"tmdbId\"].astype(int)\n",
    "\n",
    "links.to_csv(\"../data/processed/links_cleaned.csv\", index=False)\n",
    "\n",
    "print(\"✅ Cleaned links saved at ../data/processed/links_cleaned.csv\")\n"
   ]
  },
  {
   "cell_type": "code",
   "execution_count": 6,
   "id": "e7a9086b-213c-41fc-9604-923e6c254492",
   "metadata": {},
   "outputs": [
    {
     "data": {
      "text/plain": [
       "<bound method DataFrame.info of        movieId   imdbId  tmdbId\n",
       "0            1   114709     862\n",
       "1            2   113497    8844\n",
       "2            3   113228   15602\n",
       "3            4   114885   31357\n",
       "4            5   113041   11862\n",
       "...        ...      ...     ...\n",
       "62418   209157  6671244  499546\n",
       "62419   209159   297986   63407\n",
       "62420   209163  6755366  553036\n",
       "62421   209169   249603  162892\n",
       "62422   209171    55323   79513\n",
       "\n",
       "[62316 rows x 3 columns]>"
      ]
     },
     "execution_count": 6,
     "metadata": {},
     "output_type": "execute_result"
    }
   ],
   "source": [
    "links.info"
   ]
  },
  {
   "cell_type": "code",
   "execution_count": 7,
   "id": "8d130e15-4c1d-4b19-83ea-f61d83496126",
   "metadata": {},
   "outputs": [
    {
     "data": {
      "text/html": [
       "<div>\n",
       "<style scoped>\n",
       "    .dataframe tbody tr th:only-of-type {\n",
       "        vertical-align: middle;\n",
       "    }\n",
       "\n",
       "    .dataframe tbody tr th {\n",
       "        vertical-align: top;\n",
       "    }\n",
       "\n",
       "    .dataframe thead th {\n",
       "        text-align: right;\n",
       "    }\n",
       "</style>\n",
       "<table border=\"1\" class=\"dataframe\">\n",
       "  <thead>\n",
       "    <tr style=\"text-align: right;\">\n",
       "      <th></th>\n",
       "      <th>id</th>\n",
       "      <th>title</th>\n",
       "      <th>vote_average</th>\n",
       "      <th>vote_count</th>\n",
       "      <th>status</th>\n",
       "      <th>release_date</th>\n",
       "      <th>revenue</th>\n",
       "      <th>runtime</th>\n",
       "      <th>adult</th>\n",
       "      <th>backdrop_path</th>\n",
       "      <th>...</th>\n",
       "      <th>original_title</th>\n",
       "      <th>overview</th>\n",
       "      <th>popularity</th>\n",
       "      <th>poster_path</th>\n",
       "      <th>tagline</th>\n",
       "      <th>genres</th>\n",
       "      <th>production_companies</th>\n",
       "      <th>production_countries</th>\n",
       "      <th>spoken_languages</th>\n",
       "      <th>keywords</th>\n",
       "    </tr>\n",
       "  </thead>\n",
       "  <tbody>\n",
       "    <tr>\n",
       "      <th>0</th>\n",
       "      <td>27205</td>\n",
       "      <td>Inception</td>\n",
       "      <td>8.364</td>\n",
       "      <td>34495</td>\n",
       "      <td>Released</td>\n",
       "      <td>2010-07-15</td>\n",
       "      <td>825532764</td>\n",
       "      <td>148</td>\n",
       "      <td>False</td>\n",
       "      <td>/8ZTVqvKDQ8emSGUEMjsS4yHAwrp.jpg</td>\n",
       "      <td>...</td>\n",
       "      <td>Inception</td>\n",
       "      <td>Cobb, a skilled thief who commits corporate es...</td>\n",
       "      <td>83.952</td>\n",
       "      <td>/oYuLEt3zVCKq57qu2F8dT7NIa6f.jpg</td>\n",
       "      <td>Your mind is the scene of the crime.</td>\n",
       "      <td>Action, Science Fiction, Adventure</td>\n",
       "      <td>Legendary Pictures, Syncopy, Warner Bros. Pict...</td>\n",
       "      <td>United Kingdom, United States of America</td>\n",
       "      <td>English, French, Japanese, Swahili</td>\n",
       "      <td>rescue, mission, dream, airplane, paris, franc...</td>\n",
       "    </tr>\n",
       "    <tr>\n",
       "      <th>1</th>\n",
       "      <td>157336</td>\n",
       "      <td>Interstellar</td>\n",
       "      <td>8.417</td>\n",
       "      <td>32571</td>\n",
       "      <td>Released</td>\n",
       "      <td>2014-11-05</td>\n",
       "      <td>701729206</td>\n",
       "      <td>169</td>\n",
       "      <td>False</td>\n",
       "      <td>/pbrkL804c8yAv3zBZR4QPEafpAR.jpg</td>\n",
       "      <td>...</td>\n",
       "      <td>Interstellar</td>\n",
       "      <td>The adventures of a group of explorers who mak...</td>\n",
       "      <td>140.241</td>\n",
       "      <td>/gEU2QniE6E77NI6lCU6MxlNBvIx.jpg</td>\n",
       "      <td>Mankind was born on Earth. It was never meant ...</td>\n",
       "      <td>Adventure, Drama, Science Fiction</td>\n",
       "      <td>Legendary Pictures, Syncopy, Lynda Obst Produc...</td>\n",
       "      <td>United Kingdom, United States of America</td>\n",
       "      <td>English</td>\n",
       "      <td>rescue, future, spacecraft, race against time,...</td>\n",
       "    </tr>\n",
       "    <tr>\n",
       "      <th>2</th>\n",
       "      <td>155</td>\n",
       "      <td>The Dark Knight</td>\n",
       "      <td>8.512</td>\n",
       "      <td>30619</td>\n",
       "      <td>Released</td>\n",
       "      <td>2008-07-16</td>\n",
       "      <td>1004558444</td>\n",
       "      <td>152</td>\n",
       "      <td>False</td>\n",
       "      <td>/nMKdUUepR0i5zn0y1T4CsSB5chy.jpg</td>\n",
       "      <td>...</td>\n",
       "      <td>The Dark Knight</td>\n",
       "      <td>Batman raises the stakes in his war on crime. ...</td>\n",
       "      <td>130.643</td>\n",
       "      <td>/qJ2tW6WMUDux911r6m7haRef0WH.jpg</td>\n",
       "      <td>Welcome to a world without rules.</td>\n",
       "      <td>Drama, Action, Crime, Thriller</td>\n",
       "      <td>DC Comics, Legendary Pictures, Syncopy, Isobel...</td>\n",
       "      <td>United Kingdom, United States of America</td>\n",
       "      <td>English, Mandarin</td>\n",
       "      <td>joker, sadism, chaos, secret identity, crime f...</td>\n",
       "    </tr>\n",
       "    <tr>\n",
       "      <th>3</th>\n",
       "      <td>19995</td>\n",
       "      <td>Avatar</td>\n",
       "      <td>7.573</td>\n",
       "      <td>29815</td>\n",
       "      <td>Released</td>\n",
       "      <td>2009-12-15</td>\n",
       "      <td>2923706026</td>\n",
       "      <td>162</td>\n",
       "      <td>False</td>\n",
       "      <td>/vL5LR6WdxWPjLPFRLe133jXWsh5.jpg</td>\n",
       "      <td>...</td>\n",
       "      <td>Avatar</td>\n",
       "      <td>In the 22nd century, a paraplegic Marine is di...</td>\n",
       "      <td>79.932</td>\n",
       "      <td>/kyeqWdyUXW608qlYkRqosgbbJyK.jpg</td>\n",
       "      <td>Enter the world of Pandora.</td>\n",
       "      <td>Action, Adventure, Fantasy, Science Fiction</td>\n",
       "      <td>Dune Entertainment, Lightstorm Entertainment, ...</td>\n",
       "      <td>United States of America, United Kingdom</td>\n",
       "      <td>English, Spanish</td>\n",
       "      <td>future, society, culture clash, space travel, ...</td>\n",
       "    </tr>\n",
       "    <tr>\n",
       "      <th>4</th>\n",
       "      <td>24428</td>\n",
       "      <td>The Avengers</td>\n",
       "      <td>7.710</td>\n",
       "      <td>29166</td>\n",
       "      <td>Released</td>\n",
       "      <td>2012-04-25</td>\n",
       "      <td>1518815515</td>\n",
       "      <td>143</td>\n",
       "      <td>False</td>\n",
       "      <td>/9BBTo63ANSmhC4e6r62OJFuK2GL.jpg</td>\n",
       "      <td>...</td>\n",
       "      <td>The Avengers</td>\n",
       "      <td>When an unexpected enemy emerges and threatens...</td>\n",
       "      <td>98.082</td>\n",
       "      <td>/RYMX2wcKCBAr24UyPD7xwmjaTn.jpg</td>\n",
       "      <td>Some assembly required.</td>\n",
       "      <td>Science Fiction, Action, Adventure</td>\n",
       "      <td>Marvel Studios</td>\n",
       "      <td>United States of America</td>\n",
       "      <td>English, Hindi, Russian</td>\n",
       "      <td>new york city, superhero, shield, based on com...</td>\n",
       "    </tr>\n",
       "  </tbody>\n",
       "</table>\n",
       "<p>5 rows × 24 columns</p>\n",
       "</div>"
      ],
      "text/plain": [
       "       id            title  vote_average  vote_count    status release_date  \\\n",
       "0   27205        Inception         8.364       34495  Released   2010-07-15   \n",
       "1  157336     Interstellar         8.417       32571  Released   2014-11-05   \n",
       "2     155  The Dark Knight         8.512       30619  Released   2008-07-16   \n",
       "3   19995           Avatar         7.573       29815  Released   2009-12-15   \n",
       "4   24428     The Avengers         7.710       29166  Released   2012-04-25   \n",
       "\n",
       "      revenue  runtime  adult                     backdrop_path  ...  \\\n",
       "0   825532764      148  False  /8ZTVqvKDQ8emSGUEMjsS4yHAwrp.jpg  ...   \n",
       "1   701729206      169  False  /pbrkL804c8yAv3zBZR4QPEafpAR.jpg  ...   \n",
       "2  1004558444      152  False  /nMKdUUepR0i5zn0y1T4CsSB5chy.jpg  ...   \n",
       "3  2923706026      162  False  /vL5LR6WdxWPjLPFRLe133jXWsh5.jpg  ...   \n",
       "4  1518815515      143  False  /9BBTo63ANSmhC4e6r62OJFuK2GL.jpg  ...   \n",
       "\n",
       "    original_title                                           overview  \\\n",
       "0        Inception  Cobb, a skilled thief who commits corporate es...   \n",
       "1     Interstellar  The adventures of a group of explorers who mak...   \n",
       "2  The Dark Knight  Batman raises the stakes in his war on crime. ...   \n",
       "3           Avatar  In the 22nd century, a paraplegic Marine is di...   \n",
       "4     The Avengers  When an unexpected enemy emerges and threatens...   \n",
       "\n",
       "  popularity                       poster_path  \\\n",
       "0     83.952  /oYuLEt3zVCKq57qu2F8dT7NIa6f.jpg   \n",
       "1    140.241  /gEU2QniE6E77NI6lCU6MxlNBvIx.jpg   \n",
       "2    130.643  /qJ2tW6WMUDux911r6m7haRef0WH.jpg   \n",
       "3     79.932  /kyeqWdyUXW608qlYkRqosgbbJyK.jpg   \n",
       "4     98.082   /RYMX2wcKCBAr24UyPD7xwmjaTn.jpg   \n",
       "\n",
       "                                             tagline  \\\n",
       "0               Your mind is the scene of the crime.   \n",
       "1  Mankind was born on Earth. It was never meant ...   \n",
       "2                  Welcome to a world without rules.   \n",
       "3                        Enter the world of Pandora.   \n",
       "4                            Some assembly required.   \n",
       "\n",
       "                                        genres  \\\n",
       "0           Action, Science Fiction, Adventure   \n",
       "1            Adventure, Drama, Science Fiction   \n",
       "2               Drama, Action, Crime, Thriller   \n",
       "3  Action, Adventure, Fantasy, Science Fiction   \n",
       "4           Science Fiction, Action, Adventure   \n",
       "\n",
       "                                production_companies  \\\n",
       "0  Legendary Pictures, Syncopy, Warner Bros. Pict...   \n",
       "1  Legendary Pictures, Syncopy, Lynda Obst Produc...   \n",
       "2  DC Comics, Legendary Pictures, Syncopy, Isobel...   \n",
       "3  Dune Entertainment, Lightstorm Entertainment, ...   \n",
       "4                                     Marvel Studios   \n",
       "\n",
       "                       production_countries  \\\n",
       "0  United Kingdom, United States of America   \n",
       "1  United Kingdom, United States of America   \n",
       "2  United Kingdom, United States of America   \n",
       "3  United States of America, United Kingdom   \n",
       "4                  United States of America   \n",
       "\n",
       "                     spoken_languages  \\\n",
       "0  English, French, Japanese, Swahili   \n",
       "1                             English   \n",
       "2                   English, Mandarin   \n",
       "3                    English, Spanish   \n",
       "4             English, Hindi, Russian   \n",
       "\n",
       "                                            keywords  \n",
       "0  rescue, mission, dream, airplane, paris, franc...  \n",
       "1  rescue, future, spacecraft, race against time,...  \n",
       "2  joker, sadism, chaos, secret identity, crime f...  \n",
       "3  future, society, culture clash, space travel, ...  \n",
       "4  new york city, superhero, shield, based on com...  \n",
       "\n",
       "[5 rows x 24 columns]"
      ]
     },
     "execution_count": 7,
     "metadata": {},
     "output_type": "execute_result"
    }
   ],
   "source": [
    "tmdb_df = pd.read_csv(\"../data/raw/tmdb_movies.csv\")\n",
    "\n",
    "# Display first few rows\n",
    "tmdb_df.head()"
   ]
  },
  {
   "cell_type": "code",
   "execution_count": 8,
   "id": "83995ddd-ff8e-4f5e-95fb-7cf588dca1ae",
   "metadata": {},
   "outputs": [
    {
     "data": {
      "text/plain": [
       "id                            0\n",
       "title                        13\n",
       "vote_average                  0\n",
       "vote_count                    0\n",
       "status                        0\n",
       "release_date             204000\n",
       "revenue                       0\n",
       "runtime                       0\n",
       "adult                         0\n",
       "backdrop_path            867044\n",
       "budget                        0\n",
       "homepage                1052648\n",
       "imdb_id                  564217\n",
       "original_language             0\n",
       "original_title               13\n",
       "overview                 244328\n",
       "popularity                    0\n",
       "poster_path              378791\n",
       "tagline                 1011669\n",
       "genres                   478671\n",
       "production_companies     649362\n",
       "production_countries     528853\n",
       "spoken_languages         509080\n",
       "keywords                 862448\n",
       "dtype: int64"
      ]
     },
     "execution_count": 8,
     "metadata": {},
     "output_type": "execute_result"
    }
   ],
   "source": [
    "tmdb_df.isnull().sum()\n"
   ]
  },
  {
   "cell_type": "code",
   "execution_count": 10,
   "id": "256041b6-5a09-45b5-a33f-6a896bd85432",
   "metadata": {},
   "outputs": [],
   "source": [
    "# Drop unnecessary columns\n",
    "tmdb_filtered = tmdb_df.drop(columns=[\n",
    "    'homepage', 'tagline', 'backdrop_path', 'poster_path', \n",
    "    'production_companies', 'production_countries', 'spoken_languages', 'keywords'\n",
    "])\n"
   ]
  },
  {
   "cell_type": "code",
   "execution_count": 11,
   "id": "a9bba13b-0474-4e45-a286-c995309402cb",
   "metadata": {},
   "outputs": [
    {
     "name": "stderr",
     "output_type": "stream",
     "text": [
      "/var/folders/jc/l_cfjyfs6q7265bvjqzjj3280000gn/T/ipykernel_13066/3647608136.py:1: FutureWarning: A value is trying to be set on a copy of a DataFrame or Series through chained assignment using an inplace method.\n",
      "The behavior will change in pandas 3.0. This inplace method will never work because the intermediate object on which we are setting values always behaves as a copy.\n",
      "\n",
      "For example, when doing 'df[col].method(value, inplace=True)', try using 'df.method({col: value}, inplace=True)' or df[col] = df[col].method(value) instead, to perform the operation inplace on the original object.\n",
      "\n",
      "\n",
      "  tmdb_filtered[\"title\"].fillna(tmdb_filtered[\"original_title\"], inplace=True)\n"
     ]
    }
   ],
   "source": [
    "tmdb_filtered[\"title\"].fillna(tmdb_filtered[\"original_title\"], inplace=True)\n"
   ]
  },
  {
   "cell_type": "code",
   "execution_count": 12,
   "id": "4f7e9b6b-0cfb-4cf2-9e7f-aa9df182fe3e",
   "metadata": {},
   "outputs": [
    {
     "name": "stderr",
     "output_type": "stream",
     "text": [
      "/var/folders/jc/l_cfjyfs6q7265bvjqzjj3280000gn/T/ipykernel_13066/916979563.py:1: FutureWarning: A value is trying to be set on a copy of a DataFrame or Series through chained assignment using an inplace method.\n",
      "The behavior will change in pandas 3.0. This inplace method will never work because the intermediate object on which we are setting values always behaves as a copy.\n",
      "\n",
      "For example, when doing 'df[col].method(value, inplace=True)', try using 'df.method({col: value}, inplace=True)' or df[col] = df[col].method(value) instead, to perform the operation inplace on the original object.\n",
      "\n",
      "\n",
      "  tmdb_filtered[\"release_date\"].fillna(\"Unknown\", inplace=True)\n"
     ]
    }
   ],
   "source": [
    "tmdb_filtered[\"release_date\"].fillna(\"Unknown\", inplace=True)\n"
   ]
  },
  {
   "cell_type": "code",
   "execution_count": 13,
   "id": "371a85b5-f486-4d0b-97df-1a447c35829a",
   "metadata": {},
   "outputs": [],
   "source": [
    "tmdb_filtered = tmdb_filtered.dropna(subset=[\"overview\"])\n"
   ]
  },
  {
   "cell_type": "code",
   "execution_count": 14,
   "id": "b98ddaad-b155-42a1-a349-c5df834b5a5d",
   "metadata": {},
   "outputs": [
    {
     "name": "stderr",
     "output_type": "stream",
     "text": [
      "/var/folders/jc/l_cfjyfs6q7265bvjqzjj3280000gn/T/ipykernel_13066/3475163162.py:1: FutureWarning: A value is trying to be set on a copy of a DataFrame or Series through chained assignment using an inplace method.\n",
      "The behavior will change in pandas 3.0. This inplace method will never work because the intermediate object on which we are setting values always behaves as a copy.\n",
      "\n",
      "For example, when doing 'df[col].method(value, inplace=True)', try using 'df.method({col: value}, inplace=True)' or df[col] = df[col].method(value) instead, to perform the operation inplace on the original object.\n",
      "\n",
      "\n",
      "  tmdb_filtered[\"genres\"].fillna(\"Unknown\", inplace=True)\n"
     ]
    }
   ],
   "source": [
    "tmdb_filtered[\"genres\"].fillna(\"Unknown\", inplace=True)\n"
   ]
  },
  {
   "cell_type": "code",
   "execution_count": 15,
   "id": "3b08b63d-f71f-404d-94d3-5462925a613c",
   "metadata": {},
   "outputs": [
    {
     "data": {
      "text/plain": [
       "id                            0\n",
       "title                        13\n",
       "vote_average                  0\n",
       "vote_count                    0\n",
       "status                        0\n",
       "release_date             204000\n",
       "revenue                       0\n",
       "runtime                       0\n",
       "adult                         0\n",
       "backdrop_path            867044\n",
       "budget                        0\n",
       "homepage                1052648\n",
       "imdb_id                  564217\n",
       "original_language             0\n",
       "original_title               13\n",
       "overview                 244328\n",
       "popularity                    0\n",
       "poster_path              378791\n",
       "tagline                 1011669\n",
       "genres                   478671\n",
       "production_companies     649362\n",
       "production_countries     528853\n",
       "spoken_languages         509080\n",
       "keywords                 862448\n",
       "dtype: int64"
      ]
     },
     "execution_count": 15,
     "metadata": {},
     "output_type": "execute_result"
    }
   ],
   "source": [
    "tmdb_df.isnull().sum()"
   ]
  },
  {
   "cell_type": "code",
   "execution_count": 16,
   "id": "39db4b65-fe4a-4bd3-b5a4-8b48dd026d1c",
   "metadata": {},
   "outputs": [],
   "source": [
    "# Drop useless columns\n",
    "tmdb_filtered = tmdb_df.drop(columns=[\n",
    "    'homepage', 'tagline', 'backdrop_path', 'poster_path', \n",
    "    'production_companies', 'production_countries', 'spoken_languages', 'keywords'\n",
    "])\n"
   ]
  },
  {
   "cell_type": "code",
   "execution_count": 17,
   "id": "9f4b64df-a273-46ec-bd16-06071841c4d8",
   "metadata": {},
   "outputs": [
    {
     "name": "stderr",
     "output_type": "stream",
     "text": [
      "/var/folders/jc/l_cfjyfs6q7265bvjqzjj3280000gn/T/ipykernel_13066/3960270926.py:2: FutureWarning: A value is trying to be set on a copy of a DataFrame or Series through chained assignment using an inplace method.\n",
      "The behavior will change in pandas 3.0. This inplace method will never work because the intermediate object on which we are setting values always behaves as a copy.\n",
      "\n",
      "For example, when doing 'df[col].method(value, inplace=True)', try using 'df.method({col: value}, inplace=True)' or df[col] = df[col].method(value) instead, to perform the operation inplace on the original object.\n",
      "\n",
      "\n",
      "  tmdb_filtered[\"title\"].fillna(tmdb_filtered[\"original_title\"], inplace=True)\n"
     ]
    }
   ],
   "source": [
    "# Fill missing titles with original_title\n",
    "tmdb_filtered[\"title\"].fillna(tmdb_filtered[\"original_title\"], inplace=True)\n"
   ]
  },
  {
   "cell_type": "code",
   "execution_count": 18,
   "id": "66160a01-f034-4b67-8ad0-f81125434552",
   "metadata": {},
   "outputs": [
    {
     "name": "stderr",
     "output_type": "stream",
     "text": [
      "/var/folders/jc/l_cfjyfs6q7265bvjqzjj3280000gn/T/ipykernel_13066/3688945566.py:2: FutureWarning: A value is trying to be set on a copy of a DataFrame or Series through chained assignment using an inplace method.\n",
      "The behavior will change in pandas 3.0. This inplace method will never work because the intermediate object on which we are setting values always behaves as a copy.\n",
      "\n",
      "For example, when doing 'df[col].method(value, inplace=True)', try using 'df.method({col: value}, inplace=True)' or df[col] = df[col].method(value) instead, to perform the operation inplace on the original object.\n",
      "\n",
      "\n",
      "  tmdb_filtered[\"release_date\"].fillna(\"Unknown\", inplace=True)\n"
     ]
    }
   ],
   "source": [
    "# Option 1: Fill with \"Unknown\"\n",
    "tmdb_filtered[\"release_date\"].fillna(\"Unknown\", inplace=True)\n",
    "\n",
    "# Option 2: Drop movies with no release date\n",
    "# tmdb_filtered = tmdb_filtered.dropna(subset=[\"release_date\"])\n"
   ]
  },
  {
   "cell_type": "code",
   "execution_count": 19,
   "id": "2b6d7c1f-1046-4eb7-b3f1-c0d078f8b4ea",
   "metadata": {},
   "outputs": [
    {
     "name": "stderr",
     "output_type": "stream",
     "text": [
      "/var/folders/jc/l_cfjyfs6q7265bvjqzjj3280000gn/T/ipykernel_13066/2795879316.py:2: FutureWarning: A value is trying to be set on a copy of a DataFrame or Series through chained assignment using an inplace method.\n",
      "The behavior will change in pandas 3.0. This inplace method will never work because the intermediate object on which we are setting values always behaves as a copy.\n",
      "\n",
      "For example, when doing 'df[col].method(value, inplace=True)', try using 'df.method({col: value}, inplace=True)' or df[col] = df[col].method(value) instead, to perform the operation inplace on the original object.\n",
      "\n",
      "\n",
      "  tmdb_filtered[\"genres\"].fillna(\"Unknown\", inplace=True)\n"
     ]
    }
   ],
   "source": [
    "tmdb_filtered = tmdb_filtered.dropna(subset=[\"overview\"])\n",
    "tmdb_filtered[\"genres\"].fillna(\"Unknown\", inplace=True)\n",
    "\n"
   ]
  },
  {
   "cell_type": "code",
   "execution_count": 23,
   "id": "bb018402-fda4-4e66-9ca9-cd78515b9d16",
   "metadata": {},
   "outputs": [
    {
     "name": "stdout",
     "output_type": "stream",
     "text": [
      "✅ Final cleaned TMDb data saved at data/processed/tmdb_cleaned.csv\n"
     ]
    }
   ],
   "source": [
    "tmdb_filtered.isnull().sum()\n",
    "# Save final cleaned TMDb dataset\n",
    "tmdb_filtered.to_csv(\"../data/processed/tmdb_cleaned.csv\", index=False)\n",
    "print(\"✅ Final cleaned TMDb data saved at data/processed/tmdb_cleaned.csv\")\n"
   ]
  },
  {
   "cell_type": "code",
   "execution_count": 24,
   "id": "0db769b9-661b-4d1b-bd2f-53c1c862091a",
   "metadata": {},
   "outputs": [
    {
     "name": "stdout",
     "output_type": "stream",
     "text": [
      "✅ Merged MovieLens + TMDb data saved at data/processed/movies_final.csv\n"
     ]
    }
   ],
   "source": [
    "\n",
    "\n",
    "links_cleaned = pd.read_csv(\"../data/processed/links_cleaned.csv\")\n",
    "\n",
    "tmdb_cleaned = pd.read_csv(\"../data/processed/tmdb_cleaned.csv\")\n",
    "\n",
    "merged_df = links_cleaned.merge(tmdb_cleaned, left_on=\"tmdbId\", right_on=\"id\", how=\"inner\")\n",
    "\n",
    "merged_df = merged_df.drop(columns=[\"tmdbId\", \"id\"])\n",
    "\n",
    "merged_df.to_csv(\"../data/processed/movies_final.csv\", index=False)\n",
    "\n",
    "print(\"✅ Merged MovieLens + TMDb data saved at data/processed/movies_final.csv\")\n"
   ]
  },
  {
   "cell_type": "code",
   "execution_count": 25,
   "id": "5b988b57-04d2-42c5-86fc-b8a63607e656",
   "metadata": {},
   "outputs": [
    {
     "data": {
      "text/plain": [
       "<bound method DataFrame.info of        movieId   imdbId                        title  vote_average  \\\n",
       "0            1   114709                    Toy Story         7.971   \n",
       "1            2   113497                      Jumanji         7.239   \n",
       "2            3   113228             Grumpier Old Men         6.476   \n",
       "3            4   114885            Waiting to Exhale         6.183   \n",
       "4            5   113041  Father of the Bride Part II         6.228   \n",
       "...        ...      ...                          ...           ...   \n",
       "61118   209157  6671244                           We         5.800   \n",
       "61119   209159   297986               Janela da Alma         7.000   \n",
       "61120   209163  6755366                    Bad Poems         6.900   \n",
       "61121   209169   249603                 A Girl Thing         3.900   \n",
       "61122   209171    55323      Women of Devil's Island         4.000   \n",
       "\n",
       "       vote_count    status release_date    revenue  runtime  adult    budget  \\\n",
       "0           17152  Released   1995-10-30  394400000       81  False  30000000   \n",
       "1            9833  Released   1995-12-15  262821940      104  False  65000000   \n",
       "2             347  Released   1995-12-22   71500000      101  False  25000000   \n",
       "3             142  Released   1995-12-22   81452156      127  False  16000000   \n",
       "4             659  Released   1995-12-08   76594107      106  False         0   \n",
       "...           ...       ...          ...        ...      ...    ...       ...   \n",
       "61118          71  Released   2018-07-12          0      100  False         0   \n",
       "61119          18  Released   2001-10-20          0       73  False         0   \n",
       "61120          14  Released   2018-12-27          0       97  False         0   \n",
       "61121           6  Released   2001-01-19          0      237  False         0   \n",
       "61122           8  Released   1962-07-27          0       86  False         0   \n",
       "\n",
       "         imdb_id original_language                         original_title  \\\n",
       "0      tt0114709                en                              Toy Story   \n",
       "1      tt0113497                en                                Jumanji   \n",
       "2      tt0113228                en                       Grumpier Old Men   \n",
       "3      tt0114885                en                      Waiting to Exhale   \n",
       "4      tt0113041                en            Father of the Bride Part II   \n",
       "...          ...               ...                                    ...   \n",
       "61118  tt6671244                nl                                    Wij   \n",
       "61119  tt0297986                pt                         Janela da Alma   \n",
       "61120  tt6755366                hu                           Rossz versek   \n",
       "61121  tt0249603                en                           A Girl Thing   \n",
       "61122  tt0055323                it  Le prigioniere dell'isola del diavolo   \n",
       "\n",
       "                                                overview  popularity  \\\n",
       "0      Led by Woody, Andy's toys live happily in his ...      78.404   \n",
       "1      When siblings Judy and Peter discover an encha...      13.444   \n",
       "2      A family wedding reignites the ancient feud be...      14.815   \n",
       "3      Cheated on, mistreated and stepped on, the wom...      14.451   \n",
       "4      Just when George Banks has recovered from his ...      14.537   \n",
       "...                                                  ...         ...   \n",
       "61118  During a scorching summer in a Belgian-Dutch b...      14.078   \n",
       "61119  Nineteen people with differing degrees of visu...       2.099   \n",
       "61120  33-years old Tamás Merthner is heartbroken, af...       2.093   \n",
       "61121  A Girl Thing is a mini-series that revolves ar...       2.692   \n",
       "61122  Italian costume drama about convicted women in...       1.849   \n",
       "\n",
       "                                     genres  \n",
       "0      Animation, Adventure, Family, Comedy  \n",
       "1                Adventure, Fantasy, Family  \n",
       "2                           Romance, Comedy  \n",
       "3                    Comedy, Drama, Romance  \n",
       "4                            Comedy, Family  \n",
       "...                                     ...  \n",
       "61118                                 Drama  \n",
       "61119                           Documentary  \n",
       "61120                         Comedy, Drama  \n",
       "61121                               Unknown  \n",
       "61122              Action, Adventure, Drama  \n",
       "\n",
       "[61123 rows x 17 columns]>"
      ]
     },
     "execution_count": 25,
     "metadata": {},
     "output_type": "execute_result"
    }
   ],
   "source": [
    "merged_df.info"
   ]
  },
  {
   "cell_type": "code",
   "execution_count": null,
   "id": "6348a1f7-640e-48a2-9625-9fbdee781c10",
   "metadata": {},
   "outputs": [],
   "source": []
  }
 ],
 "metadata": {
  "kernelspec": {
   "display_name": "Python 3 (ipykernel)",
   "language": "python",
   "name": "python3"
  },
  "language_info": {
   "codemirror_mode": {
    "name": "ipython",
    "version": 3
   },
   "file_extension": ".py",
   "mimetype": "text/x-python",
   "name": "python",
   "nbconvert_exporter": "python",
   "pygments_lexer": "ipython3",
   "version": "3.10.15"
  }
 },
 "nbformat": 4,
 "nbformat_minor": 5
}
