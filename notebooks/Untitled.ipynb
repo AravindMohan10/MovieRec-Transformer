{
 "cells": [
  {
   "cell_type": "code",
   "execution_count": 28,
   "id": "5c86fb63-59f4-4092-9dd6-6e5525fc8540",
   "metadata": {},
   "outputs": [],
   "source": [
    "import pandas as pd\n",
    "from sklearn.feature_extraction.text import TfidfVectorizer\n",
    "import numpy as np\n",
    "from sklearn.metrics.pairwise import cosine_similarity\n",
    "from sentence_transformers import SentenceTransformer\n",
    "from sklearn.preprocessing import LabelEncoder\n",
    "import faiss\n",
    "\n",
    "import torch\n",
    "import torch.nn as nn\n",
    "import torch.nn.functional as F\n",
    "from torch.utils.data import Dataset, DataLoader\n",
    "\n",
    "\n"
   ]
  },
  {
   "cell_type": "code",
   "execution_count": 1,
   "id": "fd3b2e9d-ac6a-4ada-ac8f-c5e462d49282",
   "metadata": {},
   "outputs": [
    {
     "name": "stdout",
     "output_type": "stream",
     "text": [
      "Collecting faiss-cpu\n",
      "  Downloading faiss_cpu-1.10.0-cp310-cp310-macosx_11_0_arm64.whl.metadata (4.4 kB)\n",
      "Requirement already satisfied: numpy<3.0,>=1.25.0 in /Users/aravindmohan/moodenv/lib/python3.10/site-packages (from faiss-cpu) (2.2.1)\n",
      "Requirement already satisfied: packaging in /Users/aravindmohan/moodenv/lib/python3.10/site-packages (from faiss-cpu) (24.2)\n",
      "Downloading faiss_cpu-1.10.0-cp310-cp310-macosx_11_0_arm64.whl (3.2 MB)\n",
      "\u001b[2K   \u001b[90m━━━━━━━━━━━━━━━━━━━━━━━━━━━━━━━━━━━━━━━━\u001b[0m \u001b[32m3.2/3.2 MB\u001b[0m \u001b[31m1.7 MB/s\u001b[0m eta \u001b[36m0:00:00\u001b[0ma \u001b[36m0:00:01\u001b[0m\n",
      "Installing collected packages: faiss-cpu\n",
      "Successfully installed faiss-cpu-1.10.0\n",
      "\n",
      "\u001b[1m[\u001b[0m\u001b[34;49mnotice\u001b[0m\u001b[1;39;49m]\u001b[0m\u001b[39;49m A new release of pip is available: \u001b[0m\u001b[31;49m24.3.1\u001b[0m\u001b[39;49m -> \u001b[0m\u001b[32;49m25.0.1\u001b[0m\n",
      "\u001b[1m[\u001b[0m\u001b[34;49mnotice\u001b[0m\u001b[1;39;49m]\u001b[0m\u001b[39;49m To update, run: \u001b[0m\u001b[32;49mpip install --upgrade pip\u001b[0m\n"
     ]
    }
   ],
   "source": [
    "!pip install faiss-cpu\n"
   ]
  },
  {
   "cell_type": "code",
   "execution_count": 10,
   "id": "f3c3d949-b97b-4caa-8ce8-99f392e329ef",
   "metadata": {},
   "outputs": [
    {
     "name": "stdout",
     "output_type": "stream",
     "text": [
      "(61123, 17)\n"
     ]
    },
    {
     "data": {
      "text/html": [
       "<div>\n",
       "<style scoped>\n",
       "    .dataframe tbody tr th:only-of-type {\n",
       "        vertical-align: middle;\n",
       "    }\n",
       "\n",
       "    .dataframe tbody tr th {\n",
       "        vertical-align: top;\n",
       "    }\n",
       "\n",
       "    .dataframe thead th {\n",
       "        text-align: right;\n",
       "    }\n",
       "</style>\n",
       "<table border=\"1\" class=\"dataframe\">\n",
       "  <thead>\n",
       "    <tr style=\"text-align: right;\">\n",
       "      <th></th>\n",
       "      <th>movieId</th>\n",
       "      <th>imdbId</th>\n",
       "      <th>title</th>\n",
       "      <th>vote_average</th>\n",
       "      <th>vote_count</th>\n",
       "      <th>status</th>\n",
       "      <th>release_date</th>\n",
       "      <th>revenue</th>\n",
       "      <th>runtime</th>\n",
       "      <th>adult</th>\n",
       "      <th>budget</th>\n",
       "      <th>imdb_id</th>\n",
       "      <th>original_language</th>\n",
       "      <th>original_title</th>\n",
       "      <th>overview</th>\n",
       "      <th>popularity</th>\n",
       "      <th>genres</th>\n",
       "    </tr>\n",
       "  </thead>\n",
       "  <tbody>\n",
       "    <tr>\n",
       "      <th>0</th>\n",
       "      <td>1</td>\n",
       "      <td>114709</td>\n",
       "      <td>Toy Story</td>\n",
       "      <td>7.971</td>\n",
       "      <td>17152</td>\n",
       "      <td>Released</td>\n",
       "      <td>1995-10-30</td>\n",
       "      <td>394400000</td>\n",
       "      <td>81</td>\n",
       "      <td>False</td>\n",
       "      <td>30000000</td>\n",
       "      <td>tt0114709</td>\n",
       "      <td>en</td>\n",
       "      <td>Toy Story</td>\n",
       "      <td>Led by Woody, Andy's toys live happily in his ...</td>\n",
       "      <td>78.404</td>\n",
       "      <td>Animation, Adventure, Family, Comedy</td>\n",
       "    </tr>\n",
       "    <tr>\n",
       "      <th>1</th>\n",
       "      <td>2</td>\n",
       "      <td>113497</td>\n",
       "      <td>Jumanji</td>\n",
       "      <td>7.239</td>\n",
       "      <td>9833</td>\n",
       "      <td>Released</td>\n",
       "      <td>1995-12-15</td>\n",
       "      <td>262821940</td>\n",
       "      <td>104</td>\n",
       "      <td>False</td>\n",
       "      <td>65000000</td>\n",
       "      <td>tt0113497</td>\n",
       "      <td>en</td>\n",
       "      <td>Jumanji</td>\n",
       "      <td>When siblings Judy and Peter discover an encha...</td>\n",
       "      <td>13.444</td>\n",
       "      <td>Adventure, Fantasy, Family</td>\n",
       "    </tr>\n",
       "    <tr>\n",
       "      <th>2</th>\n",
       "      <td>3</td>\n",
       "      <td>113228</td>\n",
       "      <td>Grumpier Old Men</td>\n",
       "      <td>6.476</td>\n",
       "      <td>347</td>\n",
       "      <td>Released</td>\n",
       "      <td>1995-12-22</td>\n",
       "      <td>71500000</td>\n",
       "      <td>101</td>\n",
       "      <td>False</td>\n",
       "      <td>25000000</td>\n",
       "      <td>tt0113228</td>\n",
       "      <td>en</td>\n",
       "      <td>Grumpier Old Men</td>\n",
       "      <td>A family wedding reignites the ancient feud be...</td>\n",
       "      <td>14.815</td>\n",
       "      <td>Romance, Comedy</td>\n",
       "    </tr>\n",
       "    <tr>\n",
       "      <th>3</th>\n",
       "      <td>4</td>\n",
       "      <td>114885</td>\n",
       "      <td>Waiting to Exhale</td>\n",
       "      <td>6.183</td>\n",
       "      <td>142</td>\n",
       "      <td>Released</td>\n",
       "      <td>1995-12-22</td>\n",
       "      <td>81452156</td>\n",
       "      <td>127</td>\n",
       "      <td>False</td>\n",
       "      <td>16000000</td>\n",
       "      <td>tt0114885</td>\n",
       "      <td>en</td>\n",
       "      <td>Waiting to Exhale</td>\n",
       "      <td>Cheated on, mistreated and stepped on, the wom...</td>\n",
       "      <td>14.451</td>\n",
       "      <td>Comedy, Drama, Romance</td>\n",
       "    </tr>\n",
       "    <tr>\n",
       "      <th>4</th>\n",
       "      <td>5</td>\n",
       "      <td>113041</td>\n",
       "      <td>Father of the Bride Part II</td>\n",
       "      <td>6.228</td>\n",
       "      <td>659</td>\n",
       "      <td>Released</td>\n",
       "      <td>1995-12-08</td>\n",
       "      <td>76594107</td>\n",
       "      <td>106</td>\n",
       "      <td>False</td>\n",
       "      <td>0</td>\n",
       "      <td>tt0113041</td>\n",
       "      <td>en</td>\n",
       "      <td>Father of the Bride Part II</td>\n",
       "      <td>Just when George Banks has recovered from his ...</td>\n",
       "      <td>14.537</td>\n",
       "      <td>Comedy, Family</td>\n",
       "    </tr>\n",
       "  </tbody>\n",
       "</table>\n",
       "</div>"
      ],
      "text/plain": [
       "   movieId  imdbId                        title  vote_average  vote_count  \\\n",
       "0        1  114709                    Toy Story         7.971       17152   \n",
       "1        2  113497                      Jumanji         7.239        9833   \n",
       "2        3  113228             Grumpier Old Men         6.476         347   \n",
       "3        4  114885            Waiting to Exhale         6.183         142   \n",
       "4        5  113041  Father of the Bride Part II         6.228         659   \n",
       "\n",
       "     status release_date    revenue  runtime  adult    budget    imdb_id  \\\n",
       "0  Released   1995-10-30  394400000       81  False  30000000  tt0114709   \n",
       "1  Released   1995-12-15  262821940      104  False  65000000  tt0113497   \n",
       "2  Released   1995-12-22   71500000      101  False  25000000  tt0113228   \n",
       "3  Released   1995-12-22   81452156      127  False  16000000  tt0114885   \n",
       "4  Released   1995-12-08   76594107      106  False         0  tt0113041   \n",
       "\n",
       "  original_language               original_title  \\\n",
       "0                en                    Toy Story   \n",
       "1                en                      Jumanji   \n",
       "2                en             Grumpier Old Men   \n",
       "3                en            Waiting to Exhale   \n",
       "4                en  Father of the Bride Part II   \n",
       "\n",
       "                                            overview  popularity  \\\n",
       "0  Led by Woody, Andy's toys live happily in his ...      78.404   \n",
       "1  When siblings Judy and Peter discover an encha...      13.444   \n",
       "2  A family wedding reignites the ancient feud be...      14.815   \n",
       "3  Cheated on, mistreated and stepped on, the wom...      14.451   \n",
       "4  Just when George Banks has recovered from his ...      14.537   \n",
       "\n",
       "                                 genres  \n",
       "0  Animation, Adventure, Family, Comedy  \n",
       "1            Adventure, Fantasy, Family  \n",
       "2                       Romance, Comedy  \n",
       "3                Comedy, Drama, Romance  \n",
       "4                        Comedy, Family  "
      ]
     },
     "execution_count": 10,
     "metadata": {},
     "output_type": "execute_result"
    }
   ],
   "source": [
    "df = pd.read_csv(\"../data/processed/movies_final.csv\")\n",
    "\n",
    "df[\"overview\"] = df[\"overview\"].fillna(\"\")\n",
    "\n",
    "# Display dataset structure\n",
    "print(df.shape)\n",
    "df.head()"
   ]
  },
  {
   "cell_type": "code",
   "execution_count": 6,
   "id": "cc470390-fd5b-499c-85ad-088b9ad51fea",
   "metadata": {},
   "outputs": [
    {
     "name": "stdout",
     "output_type": "stream",
     "text": [
      "✅ TF-IDF embeddings generated successfully!\n"
     ]
    }
   ],
   "source": [
    "tfidf = TfidfVectorizer(stop_words=\"english\", max_features=5000)\n",
    "tfidf_matrix = tfidf.fit_transform(df[\"overview\"])\n",
    "tfidf_df = pd.DataFrame(tfidf_matrix.toarray(), index=df[\"movieId\"])\n",
    "\n",
    "print(\"✅ TF-IDF embeddings generated successfully!\")"
   ]
  },
  {
   "cell_type": "code",
   "execution_count": 8,
   "id": "1ce966ac-4de3-4d68-a70e-b0c759bd0c86",
   "metadata": {},
   "outputs": [
    {
     "name": "stdout",
     "output_type": "stream",
     "text": [
      "✅ TF-IDF embeddings saved at data/processed/tfidf_embeddings.npy\n"
     ]
    }
   ],
   "source": [
    "np.save(\"../data/processed/tfidf_embeddings.npy\", tfidf_matrix.toarray())\n",
    "\n",
    "print(\"✅ TF-IDF embeddings saved at data/processed/tfidf_embeddings.npy\")"
   ]
  },
  {
   "cell_type": "code",
   "execution_count": 4,
   "id": "aa1125f7-d0ed-4d72-b6e7-5c3233440f02",
   "metadata": {},
   "outputs": [],
   "source": [
    "tfidf_embeddings = np.load(\"../data/processed/tfidf_embeddings.npy\")\n",
    "cosine_sim = cosine_similarity(tfidf_embeddings)\n",
    "\n"
   ]
  },
  {
   "cell_type": "code",
   "execution_count": 13,
   "id": "d05a7473-f1b6-4045-b6f4-8797c350052f",
   "metadata": {},
   "outputs": [],
   "source": [
    "def get_similar_movies(movie_title, n=5):\n",
    "    if movie_title not in df[\"title\"].values:\n",
    "        return \"❌ Movie not found in dataset.\"\n",
    "    movie_index = df[df[\"title\"] == movie_title].index[0]\n",
    "\n",
    "    sim_scores = list(enumerate(cosine_sim[movie_index]))\n",
    "\n",
    "    sim_scores = sorted(sim_scores, key=lambda x: x[1], reverse=True)\n",
    "    top_movies = sim_scores[1:n+1]\n",
    "\n",
    "    similar_movie_titles = [df.iloc[i[0]][\"title\"] for i in top_movies]\n",
    "\n",
    "    return similar_movie_titles"
   ]
  },
  {
   "cell_type": "code",
   "execution_count": 14,
   "id": "3f1118e1-6610-4c85-9d5c-5247963196bf",
   "metadata": {},
   "outputs": [
    {
     "name": "stdout",
     "output_type": "stream",
     "text": [
      "🎬 Movies similar to 'The Matrix':\n",
      "['The Vanishing Prairie', 'Pulse', 'Who Am I', 'The Web', 'Algorithm']\n"
     ]
    }
   ],
   "source": [
    "print(\"🎬 Movies similar to 'The Matrix':\")\n",
    "print(get_similar_movies(\"The Matrix\", n=5))\n"
   ]
  },
  {
   "cell_type": "code",
   "execution_count": 29,
   "id": "5a6f28bc-8996-4a89-a9ac-8bb4d46b38c8",
   "metadata": {},
   "outputs": [
    {
     "data": {
      "application/vnd.jupyter.widget-view+json": {
       "model_id": "75562da1ec404c8e809abf2aa97850b6",
       "version_major": 2,
       "version_minor": 0
      },
      "text/plain": [
       "Batches:   0%|          | 0/1911 [00:00<?, ?it/s]"
      ]
     },
     "metadata": {},
     "output_type": "display_data"
    },
    {
     "name": "stdout",
     "output_type": "stream",
     "text": [
      "✅ Generated movie context embeddings (text-based features).\n"
     ]
    }
   ],
   "source": [
    "text_encoder = SentenceTransformer(\"all-MiniLM-L6-v2\")\n",
    "\n",
    "# Combine genres and overview for better embeddings\n",
    "df[\"combined_text\"] = df[\"genres\"].fillna(\"\") + \" \" + df[\"overview\"].fillna(\"\")\n",
    "\n",
    "# Generate movie embeddings\n",
    "movie_text_embeddings = text_encoder.encode(df[\"combined_text\"].tolist(), batch_size=32, show_progress_bar=True)\n",
    "\n",
    "# Save embeddings for later use\n",
    "np.save(\"movie_text_embeddings.npy\", movie_text_embeddings)\n",
    "\n",
    "print(\"✅ Generated movie context embeddings (text-based features).\")"
   ]
  },
  {
   "cell_type": "code",
   "execution_count": 18,
   "id": "9b7d46e3-0e4c-4020-b585-3868332836ff",
   "metadata": {},
   "outputs": [
    {
     "name": "stdout",
     "output_type": "stream",
     "text": [
      "✅ Transformer embeddings saved at data/processed/transformer_embeddings.npy\n"
     ]
    }
   ],
   "source": [
    "np.save(\"../data/processed/transformer_embeddings.npy\", transformer_embeddings)\n",
    "\n",
    "print(\"✅ Transformer embeddings saved at data/processed/transformer_embeddings.npy\")"
   ]
  },
  {
   "cell_type": "code",
   "execution_count": 5,
   "id": "c8237cd7-d49b-468d-bf2d-3c3e48394f5d",
   "metadata": {},
   "outputs": [
    {
     "name": "stdout",
     "output_type": "stream",
     "text": [
      "✅ Transformer-based similarity matrix computed!\n"
     ]
    }
   ],
   "source": [
    "transformer_embeddings = np.load(\"../data/processed/transformer_embeddings.npy\")\n",
    "cosine_sim_transformer = cosine_similarity(transformer_embeddings)\n",
    "\n",
    "print(\"✅ Transformer-based similarity matrix computed!\")\n"
   ]
  },
  {
   "cell_type": "code",
   "execution_count": 20,
   "id": "40439fb9-6f08-4f8c-8d26-246e44a24306",
   "metadata": {},
   "outputs": [],
   "source": [
    "def get_similar_movies_transformer(movie_title, n=5):\n",
    "    # Ensure movie title exists\n",
    "    if movie_title not in df[\"title\"].values:\n",
    "        return \" Movie not found in dataset.\"\n",
    "\n",
    "    # Get the movie index\n",
    "    movie_index = df[df[\"title\"] == movie_title].index[0]\n",
    "\n",
    "    # Get similarity scores for the movie\n",
    "    sim_scores = list(enumerate(cosine_sim_transformer[movie_index]))\n",
    "\n",
    "    # Sort movies based on similarity score (descending)\n",
    "    sim_scores = sorted(sim_scores, key=lambda x: x[1], reverse=True)\n",
    "    top_movies = sim_scores[1:n+1]\n",
    "    similar_movie_titles = [df.iloc[i[0]][\"title\"] for i in top_movies]\n",
    "\n",
    "    return similar_movie_titles\n"
   ]
  },
  {
   "cell_type": "code",
   "execution_count": 30,
   "id": "5992bcfd-655f-4f5e-8a7f-259c0bc3be0b",
   "metadata": {},
   "outputs": [
    {
     "name": "stdout",
     "output_type": "stream",
     "text": [
      "Movies similar to 'Spiderman 2' (Transformer-based):\n",
      "❌ Movie not found in dataset.\n"
     ]
    }
   ],
   "source": [
    "print(\"Movies similar to 'Spiderman 2' (Transformer-based):\")\n",
    "print(get_similar_movies_transformer(\"Spiderman 2\", n=5))\n"
   ]
  },
  {
   "cell_type": "code",
   "execution_count": 6,
   "id": "61b6adb7-2665-4a05-81f3-1a2589cf11cc",
   "metadata": {},
   "outputs": [
    {
     "data": {
      "text/html": [
       "<div>\n",
       "<style scoped>\n",
       "    .dataframe tbody tr th:only-of-type {\n",
       "        vertical-align: middle;\n",
       "    }\n",
       "\n",
       "    .dataframe tbody tr th {\n",
       "        vertical-align: top;\n",
       "    }\n",
       "\n",
       "    .dataframe thead th {\n",
       "        text-align: right;\n",
       "    }\n",
       "</style>\n",
       "<table border=\"1\" class=\"dataframe\">\n",
       "  <thead>\n",
       "    <tr style=\"text-align: right;\">\n",
       "      <th></th>\n",
       "      <th>title</th>\n",
       "      <th>combined_text</th>\n",
       "    </tr>\n",
       "  </thead>\n",
       "  <tbody>\n",
       "    <tr>\n",
       "      <th>0</th>\n",
       "      <td>Toy Story</td>\n",
       "      <td>Animation, Adventure, Family, Comedy Led by Wo...</td>\n",
       "    </tr>\n",
       "    <tr>\n",
       "      <th>1</th>\n",
       "      <td>Jumanji</td>\n",
       "      <td>Adventure, Fantasy, Family When siblings Judy ...</td>\n",
       "    </tr>\n",
       "    <tr>\n",
       "      <th>2</th>\n",
       "      <td>Grumpier Old Men</td>\n",
       "      <td>Romance, Comedy A family wedding reignites the...</td>\n",
       "    </tr>\n",
       "    <tr>\n",
       "      <th>3</th>\n",
       "      <td>Waiting to Exhale</td>\n",
       "      <td>Comedy, Drama, Romance Cheated on, mistreated ...</td>\n",
       "    </tr>\n",
       "    <tr>\n",
       "      <th>4</th>\n",
       "      <td>Father of the Bride Part II</td>\n",
       "      <td>Comedy, Family Just when George Banks has reco...</td>\n",
       "    </tr>\n",
       "  </tbody>\n",
       "</table>\n",
       "</div>"
      ],
      "text/plain": [
       "                         title  \\\n",
       "0                    Toy Story   \n",
       "1                      Jumanji   \n",
       "2             Grumpier Old Men   \n",
       "3            Waiting to Exhale   \n",
       "4  Father of the Bride Part II   \n",
       "\n",
       "                                       combined_text  \n",
       "0  Animation, Adventure, Family, Comedy Led by Wo...  \n",
       "1  Adventure, Fantasy, Family When siblings Judy ...  \n",
       "2  Romance, Comedy A family wedding reignites the...  \n",
       "3  Comedy, Drama, Romance Cheated on, mistreated ...  \n",
       "4  Comedy, Family Just when George Banks has reco...  "
      ]
     },
     "execution_count": 6,
     "metadata": {},
     "output_type": "execute_result"
    }
   ],
   "source": [
    "\n",
    "df[\"combined_text\"] = df[\"genres\"] + \" \" + df[\"overview\"]\n",
    "df[[\"title\", \"combined_text\"]].head()\n"
   ]
  },
  {
   "cell_type": "code",
   "execution_count": null,
   "id": "65e4273a-34be-46e5-8f0a-077f53c54441",
   "metadata": {},
   "outputs": [],
   "source": [
    "cosine_sim_transformer = cosine_similarity(transformer_embeddings)\n",
    "\n",
    "# Encode genres numerically\n",
    "genre_encoder = LabelEncoder()\n",
    "df[\"genre_encoded\"] = genre_encoder.fit_transform(df[\"genres\"])\n",
    "\n",
    "# Compute genre similarity\n",
    "genre_similarity = cosine_similarity(df[\"genre_encoded\"].values.reshape(-1, 1))\n",
    "\n",
    "# Compute year similarity\n",
    "df[\"release_year\"] = pd.to_datetime(df[\"release_date\"], errors=\"coerce\").dt.year.fillna(0).astype(int)\n",
    "year_similarity = 1 / (1 + abs(df[\"release_year\"].values.reshape(-1, 1) - df[\"release_year\"].values.reshape(1, -1)))\n",
    "\n",
    "# Final Hybrid Similarity Calculation\n",
    "final_similarity = 0.7 * cosine_sim_transformer + 0.2 * genre_similarity + 0.1 * year_similarity\n",
    "\n",
    "print(\"✅ Final Hybrid Similarity Matrix Computed!\")"
   ]
  },
  {
   "cell_type": "code",
   "execution_count": 6,
   "id": "f4dedf9f-0782-48d9-9eae-2091ff9f0b19",
   "metadata": {},
   "outputs": [
    {
     "name": "stdout",
     "output_type": "stream",
     "text": [
      "✅ FAISS index built successfully!\n"
     ]
    }
   ],
   "source": [
    "index = faiss.IndexFlatL2(transformer_embeddings.shape[1])\n",
    "index.add(transformer_embeddings)\n",
    "\n",
    "print(\"✅ FAISS index built successfully!\")\n"
   ]
  },
  {
   "cell_type": "code",
   "execution_count": 9,
   "id": "4417c072-115c-48b5-b042-342ef9d81bb2",
   "metadata": {},
   "outputs": [],
   "source": [
    "def get_faiss_recommendations(movie_title, n=5):\n",
    "    if movie_title not in df[\"title\"].values:\n",
    "        return \"❌ Movie not found in dataset.\"\n",
    "\n",
    "    # Get movie index\n",
    "    movie_index = df[df[\"title\"] == movie_title].index[0]\n",
    "\n",
    "    # Search for nearest neighbors\n",
    "    distances, indices = index.search(transformer_embeddings[movie_index].reshape(1, -1), n+1)\n",
    "\n",
    "    # Retrieve movie titles (skip first one as it's the query itself)\n",
    "    recommended_titles = [df.iloc[i][\"title\"] for i in indices[0][1:]]\n",
    "\n",
    "    return recommended_titles\n"
   ]
  },
  {
   "cell_type": "code",
   "execution_count": 11,
   "id": "269faefa-20ac-4b6d-9dc2-a89ef9dbfb5a",
   "metadata": {},
   "outputs": [
    {
     "name": "stdout",
     "output_type": "stream",
     "text": [
      "🎬 Movies similar to 'Interstellar' (FAISS-based):\n",
      "['Prometheus', 'The Beyond', 'The Farthest', 'Passage to Mars', 'Voyager: To the Final Frontier']\n",
      "🎬 Movies similar to 'Superbad' (FAISS-based):\n",
      "['Always', 'Wobble Palace', 'Blue Denim', 'Project X', 'Bernard and Huey']\n",
      "🎬 Movies similar to 'The Notebook' (FAISS-based):\n",
      "['The Longest Ride', 'Street Level', 'Lovely, Still', 'Doomed Love', 'A Majority of One']\n"
     ]
    }
   ],
   "source": [
    "print(\"🎬 Movies similar to 'Interstellar' (FAISS-based):\")\n",
    "print(get_faiss_recommendations(\"Interstellar\", n=5))\n",
    "\n",
    "print(\"🎬 Movies similar to 'Superbad' (FAISS-based):\")\n",
    "print(get_faiss_recommendations(\"Superbad\", n=5))\n",
    "\n",
    "print(\"🎬 Movies similar to 'The Notebook' (FAISS-based):\")\n",
    "print(get_faiss_recommendations(\"The Notebook\", n=5))\n"
   ]
  },
  {
   "cell_type": "code",
   "execution_count": 12,
   "id": "e10fccbe-77ba-4ecd-ba1f-c0382ecb0b72",
   "metadata": {},
   "outputs": [
    {
     "data": {
      "text/html": [
       "<div>\n",
       "<style scoped>\n",
       "    .dataframe tbody tr th:only-of-type {\n",
       "        vertical-align: middle;\n",
       "    }\n",
       "\n",
       "    .dataframe tbody tr th {\n",
       "        vertical-align: top;\n",
       "    }\n",
       "\n",
       "    .dataframe thead th {\n",
       "        text-align: right;\n",
       "    }\n",
       "</style>\n",
       "<table border=\"1\" class=\"dataframe\">\n",
       "  <thead>\n",
       "    <tr style=\"text-align: right;\">\n",
       "      <th></th>\n",
       "      <th>title</th>\n",
       "      <th>combined_text</th>\n",
       "    </tr>\n",
       "  </thead>\n",
       "  <tbody>\n",
       "    <tr>\n",
       "      <th>0</th>\n",
       "      <td>Toy Story</td>\n",
       "      <td>Toy Story Animation, Adventure, Family, Comedy...</td>\n",
       "    </tr>\n",
       "    <tr>\n",
       "      <th>1</th>\n",
       "      <td>Jumanji</td>\n",
       "      <td>Jumanji Adventure, Fantasy, Family When siblin...</td>\n",
       "    </tr>\n",
       "    <tr>\n",
       "      <th>2</th>\n",
       "      <td>Grumpier Old Men</td>\n",
       "      <td>Grumpier Old Men Romance, Comedy A family wedd...</td>\n",
       "    </tr>\n",
       "    <tr>\n",
       "      <th>3</th>\n",
       "      <td>Waiting to Exhale</td>\n",
       "      <td>Waiting to Exhale Comedy, Drama, Romance Cheat...</td>\n",
       "    </tr>\n",
       "    <tr>\n",
       "      <th>4</th>\n",
       "      <td>Father of the Bride Part II</td>\n",
       "      <td>Father of the Bride Part II Comedy, Family Jus...</td>\n",
       "    </tr>\n",
       "  </tbody>\n",
       "</table>\n",
       "</div>"
      ],
      "text/plain": [
       "                         title  \\\n",
       "0                    Toy Story   \n",
       "1                      Jumanji   \n",
       "2             Grumpier Old Men   \n",
       "3            Waiting to Exhale   \n",
       "4  Father of the Bride Part II   \n",
       "\n",
       "                                       combined_text  \n",
       "0  Toy Story Animation, Adventure, Family, Comedy...  \n",
       "1  Jumanji Adventure, Fantasy, Family When siblin...  \n",
       "2  Grumpier Old Men Romance, Comedy A family wedd...  \n",
       "3  Waiting to Exhale Comedy, Drama, Romance Cheat...  \n",
       "4  Father of the Bride Part II Comedy, Family Jus...  "
      ]
     },
     "execution_count": 12,
     "metadata": {},
     "output_type": "execute_result"
    }
   ],
   "source": [
    "# Improve text representation by adding genres & title\n",
    "df[\"combined_text\"] = df[\"title\"] + \" \" + df[\"genres\"] + \" \" + df[\"overview\"]\n",
    "\n",
    "# Check an example\n",
    "df[[\"title\", \"combined_text\"]].head()\n"
   ]
  },
  {
   "cell_type": "code",
   "execution_count": 13,
   "id": "1b39b160-d78b-42a6-a04b-800f37a0f131",
   "metadata": {},
   "outputs": [
    {
     "data": {
      "application/vnd.jupyter.widget-view+json": {
       "model_id": "f268e780adc94c90b0f5f91b74d49bac",
       "version_major": 2,
       "version_minor": 0
      },
      "text/plain": [
       "Batches:   0%|          | 0/1911 [00:00<?, ?it/s]"
      ]
     },
     "metadata": {},
     "output_type": "display_data"
    },
    {
     "name": "stdout",
     "output_type": "stream",
     "text": [
      "✅ Improved Transformer embeddings generated successfully!\n"
     ]
    }
   ],
   "source": [
    "model = SentenceTransformer(\"all-MiniLM-L6-v2\")\n",
    "\n",
    "# Generate new embeddings for combined text (title + genre + overview)\n",
    "new_embeddings = model.encode(df[\"combined_text\"].tolist(), batch_size=32, show_progress_bar=True)\n",
    "\n",
    "print(\"✅ Improved Transformer embeddings generated successfully!\")"
   ]
  },
  {
   "cell_type": "code",
   "execution_count": 14,
   "id": "5c5af016-c74b-464a-a840-7e00c8b06290",
   "metadata": {},
   "outputs": [
    {
     "data": {
      "application/vnd.jupyter.widget-view+json": {
       "model_id": "964ec3fd8eb94ee0b318a08861526c86",
       "version_major": 2,
       "version_minor": 0
      },
      "text/plain": [
       "Batches:   0%|          | 0/1911 [00:00<?, ?it/s]"
      ]
     },
     "metadata": {},
     "output_type": "display_data"
    },
    {
     "name": "stdout",
     "output_type": "stream",
     "text": [
      "✅ Improved Transformer embeddings generated successfully!\n"
     ]
    }
   ],
   "source": [
    "model = SentenceTransformer(\"all-MiniLM-L6-v2\")\n",
    "\n",
    "# Generate new embeddings for combined text (title + genre + overview)\n",
    "new_embeddings = model.encode(df[\"combined_text\"].tolist(), batch_size=32, show_progress_bar=True)\n",
    "\n",
    "print(\"✅ Improved Transformer embeddings generated successfully!\")"
   ]
  },
  {
   "cell_type": "code",
   "execution_count": 15,
   "id": "ed65aab6-2e3f-414c-9e49-e390fbc37c19",
   "metadata": {},
   "outputs": [
    {
     "name": "stdout",
     "output_type": "stream",
     "text": [
      "🎬 Movies similar to 'Interstellar' (Improved FAISS-based):\n",
      "['Prometheus', 'The Beyond', 'The Farthest', 'Passage to Mars', 'Voyager: To the Final Frontier']\n",
      "🎬 Movies similar to 'Superbad' (Improved FAISS-based):\n",
      "['Always', 'Wobble Palace', 'Blue Denim', 'Project X', 'Bernard and Huey']\n",
      "🎬 Movies similar to 'The Notebook' (Improved FAISS-based):\n",
      "['The Longest Ride', 'Street Level', 'Lovely, Still', 'Doomed Love', 'A Majority of One']\n"
     ]
    }
   ],
   "source": [
    "print(\"🎬 Movies similar to 'Interstellar' (Improved FAISS-based):\")\n",
    "print(get_faiss_recommendations(\"Interstellar\", n=5))\n",
    "\n",
    "print(\"🎬 Movies similar to 'Superbad' (Improved FAISS-based):\")\n",
    "print(get_faiss_recommendations(\"Superbad\", n=5))\n",
    "\n",
    "print(\"🎬 Movies similar to 'The Notebook' (Improved FAISS-based):\")\n",
    "print(get_faiss_recommendations(\"The Notebook\", n=5))\n"
   ]
  },
  {
   "cell_type": "code",
   "execution_count": null,
   "id": "2c4782cb-8828-4445-8a59-ab1dd4700653",
   "metadata": {},
   "outputs": [],
   "source": []
  },
  {
   "cell_type": "code",
   "execution_count": 22,
   "id": "2e2e0f73-e83f-4add-bb84-293a7905c45d",
   "metadata": {},
   "outputs": [
    {
     "name": "stdout",
     "output_type": "stream",
     "text": [
      "✅ Assigned watch history to 5000 users based on popularity.\n"
     ]
    }
   ],
   "source": [
    "num_synthetic_users = 5000\n",
    "synthetic_users = np.arange(1, num_synthetic_users + 1)\n",
    "\n",
    "# Assign movies based on vote_count (higher vote_count = more watches)\n",
    "df_sorted = df.sort_values(by=\"vote_count\", ascending=False)  # Sort movies by popularity\n",
    "\n",
    "# Generate watch history\n",
    "max_movies_per_user = 10  # Each user watches up to 10 movies\n",
    "user_watch_history = {}\n",
    "\n",
    "for user in synthetic_users:\n",
    "    # Select movies, favoring popular ones\n",
    "    num_watched = np.random.randint(1, max_movies_per_user + 1)\n",
    "    watched_movies = np.random.choice(df_sorted[\"movieId\"].head(1000), size=num_watched, replace=False).tolist()\n",
    "    user_watch_history[user] = watched_movies\n",
    "\n",
    "print(f\"✅ Assigned watch history to {num_synthetic_users} users based on popularity.\")"
   ]
  },
  {
   "cell_type": "code",
   "execution_count": null,
   "id": "89b77dac-f301-44ae-8c9e-6ff149d0ce25",
   "metadata": {},
   "outputs": [],
   "source": [
    "## class TransformerRecSys(nn.Module):\n",
    "    def __init__(self, num_users, num_movies, embedding_dim=256, num_heads=4, num_layers=2, dropout=0.2, max_seq_length=10):\n",
    "        super(TransformerRecSys, self).__init__()\n",
    "\n",
    "        # User and Movie Embeddings\n",
    "        self.user_embedding = nn.Embedding(num_users, embedding_dim)\n",
    "        self.movie_embedding = nn.Embedding(num_movies, embedding_dim)\n",
    "\n",
    "        # Positional Encoding for Watch History\n",
    "        self.position_encoding = nn.Parameter(torch.randn(1, max_seq_length, embedding_dim))\n",
    "\n",
    "        # Transformer Encoder\n",
    "        self.transformer = nn.TransformerEncoder(\n",
    "            nn.TransformerEncoderLayer(d_model=embedding_dim, nhead=num_heads, dropout=dropout),\n",
    "            num_layers=num_layers\n",
    "        )\n",
    "\n",
    "        # Fully Connected Layers for Rating Prediction\n",
    "        self.fc = nn.Sequential(\n",
    "            nn.Linear(embedding_dim, 128),\n",
    "            nn.ReLU(),\n",
    "            nn.Linear(128, 1)  # Output: rating or ranking score\n",
    "        )\n",
    "\n",
    "    def forward(self, user_ids, movie_ids, watch_history):\n",
    "        \"\"\"\n",
    "        user_ids: Tensor of shape (batch_size,)\n",
    "        movie_ids: Tensor of shape (batch_size,)\n",
    "        watch_history: Tensor of shape (batch_size, max_seq_length)\n",
    "        \"\"\"\n",
    "\n",
    "        # Get Embeddings\n",
    "        user_embed = self.user_embedding(user_ids)  # Shape: (batch_size, embedding_dim)\n",
    "        movie_embed = self.movie_embedding(movie_ids)  # Shape: (batch_size, embedding_dim)\n",
    "\n",
    "        # Get Watch History Embeddings\n",
    "        watch_history_embed = self.movie_embedding(watch_history)  # Shape: (batch_size, max_seq_length, embedding_dim)\n",
    "\n",
    "        # Add Positional Encoding\n",
    "        watch_history_embed = watch_history_embed + self.position_encoding[:, :watch_history.shape[1], :]\n",
    "\n",
    "        # Apply Transformer Encoder\n",
    "        transformed_history = self.transformer(watch_history_embed)  # Shape: (batch_size, max_seq_length, embedding_dim)\n",
    "\n",
    "        # Pooling: Take the Mean of Transformer Output\n",
    "        history_representation = transformed_history.mean(dim=1)  # Shape: (batch_size, embedding_dim)\n",
    "\n",
    "        # Combine User, Movie, and History Representations\n",
    "        combined_representation = user_embed + movie_embed + history_representation  # Shape: (batch_size, embedding_dim)\n",
    "\n",
    "        # Pass Through Fully Connected Layers to Predict Rating\n",
    "        output = self.fc(combined_representation)  # Shape: (batch_size, 1)\n",
    "\n",
    "        return output\n"
   ]
  },
  {
   "cell_type": "code",
   "execution_count": 23,
   "id": "66e4bb2a-b889-4c47-a543-5ead6e7c3cb2",
   "metadata": {},
   "outputs": [
    {
     "name": "stdout",
     "output_type": "stream",
     "text": [
      "✅ Synthetic dataset created using real `vote_average`.\n"
     ]
    }
   ],
   "source": [
    "# Create user-movie interactions using real ratings (vote_average)\n",
    "user_movie_interactions = []\n",
    "\n",
    "for user, movies in user_watch_history.items():\n",
    "    for movie in movies:\n",
    "        # Get movie's vote_average\n",
    "        movie_info = df[df[\"movieId\"] == movie]\n",
    "        if len(movie_info) == 0:\n",
    "            continue  # Skip if movie ID is missing\n",
    "\n",
    "        vote_avg = movie_info[\"vote_average\"].values[0]\n",
    "\n",
    "        user_movie_interactions.append({\"userId\": user, \"movieId\": movie, \"rating\": round(vote_avg, 1)})\n",
    "\n",
    "# Convert to DataFrame\n",
    "ratings_df = pd.DataFrame(user_movie_interactions)\n",
    "\n",
    "print(\"✅ Synthetic dataset created using real `vote_average`.\")\n"
   ]
  },
  {
   "cell_type": "code",
   "execution_count": 26,
   "id": "d6fb5fda-5a1b-46fb-9a1a-dd82ec1c7074",
   "metadata": {},
   "outputs": [
    {
     "data": {
      "text/plain": [
       "<bound method DataFrame.info of        userId  movieId  rating\n",
       "0           1   185585     6.1\n",
       "1           1    56145     6.9\n",
       "2           1    93363     6.3\n",
       "3           1     2194     7.8\n",
       "4           1     5952     8.4\n",
       "...       ...      ...     ...\n",
       "27394    5000   166528     7.5\n",
       "27395    5000   162602     6.4\n",
       "27396    5000     3285     6.5\n",
       "27397    5000   113348     5.9\n",
       "27398    5000     3000     8.3\n",
       "\n",
       "[27399 rows x 3 columns]>"
      ]
     },
     "execution_count": 26,
     "metadata": {},
     "output_type": "execute_result"
    }
   ],
   "source": [
    "ratings_df.info"
   ]
  },
  {
   "cell_type": "code",
   "execution_count": 30,
   "id": "904d6b5d-b63d-41e9-a30f-109ba0be8414",
   "metadata": {},
   "outputs": [],
   "source": [
    "import torch.nn as nn\n",
    "import torch.nn.functional as F\n",
    "\n",
    "class TransformerRecSys(nn.Module):\n",
    "    def __init__(self, num_users, num_movies, embedding_dim=256, num_heads=4, num_layers=2, dropout=0.2, max_seq_length=10):\n",
    "        super(TransformerRecSys, self).__init__()\n",
    "\n",
    "        # User and Movie Embeddings\n",
    "        self.user_embedding = nn.Embedding(num_users, embedding_dim)\n",
    "        self.movie_embedding = nn.Embedding(num_movies, embedding_dim)\n",
    "\n",
    "        # Positional Encoding for Watch History\n",
    "        self.position_encoding = nn.Parameter(torch.randn(1, max_seq_length, embedding_dim))\n",
    "\n",
    "        # Transformer Encoder for Watch History\n",
    "        self.transformer = nn.TransformerEncoder(\n",
    "            nn.TransformerEncoderLayer(d_model=embedding_dim, nhead=num_heads, dropout=dropout),\n",
    "            num_layers=num_layers\n",
    "        )\n",
    "\n",
    "        # Fully Connected Layers for Numerical Features\n",
    "        self.num_features_fc = nn.Linear(3, embedding_dim)  # vote_average, vote_count, popularity\n",
    "\n",
    "        # Fully Connected Layer for Text Features (Text Embeddings)\n",
    "        self.text_embedding_fc = nn.Linear(384, embedding_dim)  # Convert text embedding to same dimension\n",
    "\n",
    "        # Fully Connected Layers for Rating Prediction\n",
    "        self.fc = nn.Sequential(\n",
    "            nn.Linear(embedding_dim * 3, 128),  # Combine user, movie, history, numerical + text features\n",
    "            nn.ReLU(),\n",
    "            nn.Linear(128, 1)  # Output: rating prediction\n",
    "        )\n",
    "\n",
    "    def forward(self, user_ids, movie_ids, watch_history, num_features, text_embedding):\n",
    "        \"\"\"\n",
    "        user_ids: Tensor of shape (batch_size,)\n",
    "        movie_ids: Tensor of shape (batch_size,)\n",
    "        watch_history: Tensor of shape (batch_size, max_seq_length)\n",
    "        num_features: Tensor of shape (batch_size, 3) - vote_average, vote_count, popularity\n",
    "        text_embedding: Tensor of shape (batch_size, 384) - movie context embeddings\n",
    "        \"\"\"\n",
    "\n",
    "        # Get Embeddings\n",
    "        user_embed = self.user_embedding(user_ids)  # Shape: (batch_size, embedding_dim)\n",
    "        movie_embed = self.movie_embedding(movie_ids)  # Shape: (batch_size, embedding_dim)\n",
    "\n",
    "        # Get Watch History Embeddings\n",
    "        watch_history_embed = self.movie_embedding(watch_history)  # Shape: (batch_size, max_seq_length, embedding_dim)\n",
    "\n",
    "        # Add Positional Encoding\n",
    "        watch_history_embed = watch_history_embed + self.position_encoding[:, :watch_history.shape[1], :]\n",
    "\n",
    "        # Apply Transformer Encoder\n",
    "        transformed_history = self.transformer(watch_history_embed)  # Shape: (batch_size, max_seq_length, embedding_dim)\n",
    "\n",
    "        # Pooling: Take the Mean of Transformer Output\n",
    "        history_representation = transformed_history.mean(dim=1)  # Shape: (batch_size, embedding_dim)\n",
    "\n",
    "        # Process numerical features\n",
    "        num_features_embed = self.num_features_fc(num_features)  # Shape: (batch_size, embedding_dim)\n",
    "\n",
    "        # Process text embeddings\n",
    "        text_features_embed = self.text_embedding_fc(text_embedding)  # Shape: (batch_size, embedding_dim)\n",
    "\n",
    "        # Combine User, Movie, History, Numerical, and Text Representations\n",
    "        combined_representation = (\n",
    "            user_embed + movie_embed + history_representation + num_features_embed + text_features_embed\n",
    "        )  # Shape: (batch_size, embedding_dim)\n",
    "\n",
    "        # Pass Through Fully Connected Layers to Predict Rating\n",
    "        output = self.fc(combined_representation)  # Shape: (batch_size, 1)\n",
    "\n",
    "        return output\n"
   ]
  },
  {
   "cell_type": "code",
   "execution_count": 31,
   "id": "0b20f09d-e18f-4eef-a0b0-be2d6f962195",
   "metadata": {},
   "outputs": [
    {
     "name": "stdout",
     "output_type": "stream",
     "text": [
      "✅ DataLoader now includes movie text embeddings + numerical metadata!\n"
     ]
    }
   ],
   "source": [
    "from torch.utils.data import Dataset, DataLoader\n",
    "import torch\n",
    "\n",
    "class MovieDataset(Dataset):\n",
    "    def __init__(self, df, movie_text_embeddings, max_seq_length=10):\n",
    "        self.df = df\n",
    "        self.movie_text_embeddings = movie_text_embeddings\n",
    "        self.max_seq_length = max_seq_length\n",
    "\n",
    "    def __len__(self):\n",
    "        return len(self.df)\n",
    "\n",
    "    def __getitem__(self, idx):\n",
    "        row = self.df.iloc[idx]\n",
    "\n",
    "        # Convert user & movie IDs to tensors\n",
    "        user_id = torch.tensor(row[\"userId\"], dtype=torch.long)\n",
    "        movie_id = torch.tensor(row[\"movieId\"], dtype=torch.long)\n",
    "\n",
    "        # Watch history (Pad sequences if needed)\n",
    "        watch_history = torch.tensor(\n",
    "            user_watch_history.get(row[\"userId\"], [0] * self.max_seq_length)[:self.max_seq_length],\n",
    "            dtype=torch.long\n",
    "        )\n",
    "\n",
    "        # Numerical features: vote_average, vote_count, popularity\n",
    "        num_features = torch.tensor(\n",
    "            [row[\"vote_average\"], row[\"vote_count\"], row[\"popularity\"]],\n",
    "            dtype=torch.float\n",
    "        )\n",
    "\n",
    "        # Text embedding for movie (from precomputed embeddings)\n",
    "        text_embedding = torch.tensor(self.movie_text_embeddings[idx], dtype=torch.float)\n",
    "\n",
    "        # Rating (target)\n",
    "        rating = torch.tensor(row[\"rating\"], dtype=torch.float)\n",
    "\n",
    "        return user_id, movie_id, watch_history, num_features, text_embedding, rating\n",
    "\n",
    "# Load precomputed text embeddings\n",
    "movie_text_embeddings = np.load(\"movie_text_embeddings.npy\")\n",
    "\n",
    "# Create dataset & dataloader\n",
    "train_dataset = MovieDataset(ratings_df, movie_text_embeddings)\n",
    "train_loader = DataLoader(train_dataset, batch_size=32, shuffle=True)\n",
    "\n",
    "print(\"✅ DataLoader now includes movie text embeddings + numerical metadata!\")\n"
   ]
  },
  {
   "cell_type": "code",
   "execution_count": null,
   "id": "a08a1f78-5f5c-450b-b60c-2564c5fee9b7",
   "metadata": {},
   "outputs": [],
   "source": []
  }
 ],
 "metadata": {
  "kernelspec": {
   "display_name": "Python 3 (ipykernel)",
   "language": "python",
   "name": "python3"
  },
  "language_info": {
   "codemirror_mode": {
    "name": "ipython",
    "version": 3
   },
   "file_extension": ".py",
   "mimetype": "text/x-python",
   "name": "python",
   "nbconvert_exporter": "python",
   "pygments_lexer": "ipython3",
   "version": "3.10.16"
  }
 },
 "nbformat": 4,
 "nbformat_minor": 5
}
